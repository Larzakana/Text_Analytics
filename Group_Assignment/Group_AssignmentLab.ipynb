{
 "cells": [
  {
   "cell_type": "code",
   "execution_count": 22,
   "id": "e7af9a9f",
   "metadata": {},
   "outputs": [
    {
     "name": "stdout",
     "output_type": "stream",
     "text": [
      "Scraping page 1 of 5...\n",
      "Scraping page 2 of 5...\n",
      "Scraping page 3 of 5...\n",
      "Scraping page 4 of 5...\n",
      "Scraping page 5 of 5...\n",
      "Comments extracted and saved to revshopee.csv\n"
     ]
    }
   ],
   "source": [
    "import re\n",
    "import json\n",
    "import requests\n",
    "import csv\n",
    "from datetime import datetime\n",
    "\n",
    "def display_progress(page_num, total_pages):\n",
    "    \"\"\"Display progress of scraping.\"\"\"\n",
    "    print(f\"Scraping page {page_num + 1} of {total_pages}...\")\n",
    "\n",
    "# Extract shop ID and item ID from the product URL\n",
    "product_url = 'https://shopee.com.my/-Malaysia-3-Year-Warranty-Dark-Knight-DW5600-Petak-G-Sports-Men-Women-Unisex-Kid-Watch-Jam-Tangan-Lelaki-Perempuan-i.88257056.5972469036?sp_atk=8dc92c62-cebc-470d-84e8-f575ab6de5bf&xptdk=8dc92c62-cebc-470d-84e8-f575ab6de5bf'\n",
    "match = re.search(r'i\\.(\\d+)\\.(\\d+)', product_url)\n",
    "if not match:\n",
    "    print(\"Invalid URL\")\n",
    "    exit()\n",
    "\n",
    "shop_id, item_id = match.group(1), match.group(2)\n",
    "\n",
    "# Define the number of pages to scrape\n",
    "num_pages_to_scrape = 5\n",
    "\n",
    "# Open CSV file for writing\n",
    "with open('revshopee.csv', 'w', newline='', encoding='utf-8') as csvfile:\n",
    "    fieldnames = ['Username', 'Date', 'Comment']\n",
    "    writer = csv.DictWriter(csvfile, fieldnames=fieldnames)\n",
    "    writer.writeheader()\n",
    "\n",
    "    # Loop through the desired number of pages\n",
    "    for page_num in range(num_pages_to_scrape):\n",
    "        display_progress(page_num, num_pages_to_scrape)\n",
    "\n",
    "        # Fetch ratings data from Shopee API\n",
    "        offset = page_num * 20  # Calculate offset based on page number\n",
    "        ratings_url = f'https://shopee.com.my/api/v2/item/get_ratings?filter=0&flag=1&itemid={item_id}&limit=20&offset={offset}&shopid={shop_id}&type=0'\n",
    "        data = requests.get(ratings_url).json()\n",
    "\n",
    "        # Extract and write ratings to CSV\n",
    "        for rating in data['data']['ratings']:\n",
    "            author_username = rating['author_username']\n",
    "            \n",
    "            timestamp = rating['mtime']\n",
    "            review_date = datetime.utcfromtimestamp(timestamp).strftime('%d-%m-%Y')  # Convert to desired format\n",
    "            \n",
    "            # Combine all lines of the comment into one string\n",
    "            comment_lines = [line.strip() for line in rating['comment'].split('\\n')]\n",
    "            full_comment = ' '.join(comment_lines)\n",
    "            \n",
    "            # Write to CSV file\n",
    "            writer.writerow({'Username': author_username, 'Date': review_date, 'Comment': full_comment})\n",
    "\n",
    "\n",
    "print(\"Comments extracted and saved to revshopee.csv\")"
   ]
  }
 ],
 "metadata": {
  "kernelspec": {
   "display_name": "Python 3 (ipykernel)",
   "language": "python",
   "name": "python3"
  },
  "language_info": {
   "codemirror_mode": {
    "name": "ipython",
    "version": 3
   },
   "file_extension": ".py",
   "mimetype": "text/x-python",
   "name": "python",
   "nbconvert_exporter": "python",
   "pygments_lexer": "ipython3",
   "version": "3.11.5"
  }
 },
 "nbformat": 4,
 "nbformat_minor": 5
}
