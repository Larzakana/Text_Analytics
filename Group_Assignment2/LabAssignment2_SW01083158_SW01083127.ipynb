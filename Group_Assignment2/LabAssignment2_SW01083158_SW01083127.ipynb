{
 "cells": [
  {
   "cell_type": "markdown",
   "id": "957cfeb9-6e07-47d2-bd50-56d9264c1120",
   "metadata": {},
   "source": [
    "## Lab Assignment 2\n",
    "\n",
    "* Aimi Afifah Binti Muhammad Husni (SW01083127)\n",
    "* Sarah Hani Binti Mohd Azral (SW01083158)"
   ]
  },
  {
   "cell_type": "markdown",
   "id": "bcfef397-e764-44ca-83da-e0ec6f2c5523",
   "metadata": {},
   "source": [
    "## Python Codes"
   ]
  },
  {
   "cell_type": "markdown",
   "id": "1d5c82aa-9257-41d2-98d5-fef716f1df36",
   "metadata": {},
   "source": [
    "# 1. Data Preprocessing"
   ]
  },
  {
   "cell_type": "code",
   "execution_count": 1,
   "id": "b291e3c9-3934-43e5-b45d-0d90b1b3da81",
   "metadata": {},
   "outputs": [],
   "source": [
    "import pandas as pd\n",
    "import numpy as np\n",
    "import nltk\n",
    "from nltk.corpus import stopwords\n",
    "from nltk.stem import PorterStemmer\n",
    "from sklearn.model_selection import train_test_split\n",
    "from sklearn.feature_extraction.text import TfidfVectorizer\n",
    "from sklearn.naive_bayes import MultinomialNB\n",
    "from sklearn.linear_model import LogisticRegression\n",
    "from sklearn.svm import SVC\n",
    "from sklearn.ensemble import RandomForestClassifier\n",
    "from sklearn.metrics import accuracy_score, classification_report, confusion_matrix\n",
    "import matplotlib.pyplot as plt\n",
    "import re"
   ]
  },
  {
   "cell_type": "code",
   "execution_count": 2,
   "id": "cebe648e-373a-42b5-b640-5150587772c5",
   "metadata": {},
   "outputs": [
    {
     "name": "stderr",
     "output_type": "stream",
     "text": [
      "[nltk_data] Downloading package stopwords to\n",
      "[nltk_data]     C:\\Users\\aimi\\AppData\\Roaming\\nltk_data...\n",
      "[nltk_data]   Package stopwords is already up-to-date!\n"
     ]
    }
   ],
   "source": [
    "# Download NLTK stopwords\n",
    "nltk.download('stopwords')\n",
    "stop_words = set(stopwords.words('english'))"
   ]
  },
  {
   "cell_type": "code",
   "execution_count": 3,
   "id": "a8d09051-b711-4ec2-b1c1-a04765e0f81a",
   "metadata": {},
   "outputs": [],
   "source": [
    "# Load the dataset\n",
    "df = pd.read_csv('Reviews.csv')"
   ]
  },
  {
   "cell_type": "code",
   "execution_count": 4,
   "id": "4e3ae864-5c33-4158-ab0c-00d6de9f1ff3",
   "metadata": {},
   "outputs": [],
   "source": [
    "# Drop duplicates and missing values\n",
    "df.drop_duplicates(subset=['Text'], inplace=True)\n",
    "df.dropna(inplace=True)"
   ]
  },
  {
   "cell_type": "code",
   "execution_count": 5,
   "id": "c5807f85-d315-47d0-8574-43d6c5bde38b",
   "metadata": {},
   "outputs": [],
   "source": [
    "# Text preprocessing function\n",
    "def preprocess_text(text):\n",
    "    # Remove special characters and numbers using regex\n",
    "    text = re.sub(r'[^a-zA-Z]', ' ', text)\n",
    "    # Convert to lowercase\n",
    "    text = text.lower()\n",
    "    # Tokenization and remove stopwords\n",
    "    tokens = text.split()\n",
    "    tokens = [word for word in tokens if word not in stop_words]\n",
    "    # Stemming\n",
    "    stemmer = PorterStemmer()\n",
    "    tokens = [stemmer.stem(word) for word in tokens]\n",
    "    return ' '.join(tokens)"
   ]
  },
  {
   "cell_type": "code",
   "execution_count": 6,
   "id": "d6b1951f-9b0c-4b37-b6ee-5d5a31ccc4d0",
   "metadata": {},
   "outputs": [],
   "source": [
    "# Apply preprocessing to the 'Text' column\n",
    "df['CleanedText'] = df['Text'].apply(preprocess_text)"
   ]
  },
  {
   "cell_type": "code",
   "execution_count": 7,
   "id": "781bb1a6-3203-43df-8a16-0241b36a11d8",
   "metadata": {},
   "outputs": [],
   "source": [
    "# Extract the clean data\n",
    "df.to_csv('LabAssignment2_SW01083158_SW01083127.csv', index=False)"
   ]
  },
  {
   "cell_type": "markdown",
   "id": "d7371804-09fb-47ae-8417-8a991c38afdb",
   "metadata": {},
   "source": [
    "# 2. Feature Extraction to convert text data"
   ]
  },
  {
   "cell_type": "code",
   "execution_count": 8,
   "id": "c9a2dda2-d4d5-474b-b94a-aa5994f371da",
   "metadata": {},
   "outputs": [],
   "source": [
    "# Feature Extraction (TF-IDF)\n",
    "X_train, X_test, y_train, y_test = train_test_split(df['CleanedText'], df['Score'], test_size=0.2, random_state=42)\n",
    "tfidf_vectorizer = TfidfVectorizer()\n",
    "X_train_tfidf = tfidf_vectorizer.fit_transform(X_train)\n",
    "X_test_tfidf = tfidf_vectorizer.transform(X_test)"
   ]
  },
  {
   "cell_type": "markdown",
   "id": "bedc799e-8912-4dc5-b1b3-6a8f06ef1871",
   "metadata": {},
   "source": [
    "# 3a. Machine Learning Based Approach"
   ]
  },
  {
   "cell_type": "code",
   "execution_count": 9,
   "id": "7c4b151c-54a4-4256-8241-2b0a48fc0e73",
   "metadata": {},
   "outputs": [
    {
     "name": "stdout",
     "output_type": "stream",
     "text": [
      "\n",
      "Naive Bayes Classifier Metrics:\n",
      "Accuracy: 0.6448572009350544\n",
      "Classification Report:\n",
      "               precision    recall  f1-score   support\n",
      "\n",
      "           1       0.85      0.08      0.14      7163\n",
      "           2       0.00      0.00      0.00      4217\n",
      "           3       0.00      0.00      0.00      5950\n",
      "           4       0.39      0.00      0.00     11172\n",
      "           5       0.64      1.00      0.78     50210\n",
      "\n",
      "    accuracy                           0.64     78712\n",
      "   macro avg       0.38      0.22      0.19     78712\n",
      "weighted avg       0.54      0.64      0.51     78712\n",
      "\n"
     ]
    },
    {
     "data": {
      "image/png": "[encoded data removed]",
      "text/plain": [
       "<Figure size 640x480 with 2 Axes>"
      ]
     },
     "metadata": {},
     "output_type": "display_data"
    }
   ],
   "source": [
    "# Naive Bayes Classifier\n",
    "nb_clf = MultinomialNB()\n",
    "nb_clf.fit(X_train_tfidf, y_train)\n",
    "nb_preds = nb_clf.predict(X_test_tfidf)\n",
    "\n",
    "print(\"\\nNaive Bayes Classifier Metrics:\")\n",
    "print(\"Accuracy:\", accuracy_score(y_test, nb_preds))\n",
    "print(\"Classification Report:\\n\", classification_report(y_test, nb_preds))\n",
    "conf_mat_nb = confusion_matrix(y_test, nb_preds)\n",
    "plt.imshow(conf_mat_nb, interpolation='nearest', cmap=plt.cm.Blues)\n",
    "plt.colorbar()\n",
    "plt.show()"
   ]
  },
  {
   "cell_type": "code",
   "execution_count": 10,
   "id": "86c56366-8bbc-4fb8-a420-7760f6ce2b87",
   "metadata": {},
   "outputs": [
    {
     "name": "stdout",
     "output_type": "stream",
     "text": [
      "\n",
      "Logistic Regression Classifier Metrics:\n",
      "Accuracy: 0.7186451875190568\n",
      "Classification Report:\n",
      "               precision    recall  f1-score   support\n",
      "\n",
      "           1       0.62      0.64      0.63      7163\n",
      "           2       0.35      0.12      0.18      4217\n",
      "           3       0.39      0.23      0.29      5950\n",
      "           4       0.46      0.21      0.29     11172\n",
      "           5       0.78      0.95      0.86     50210\n",
      "\n",
      "    accuracy                           0.72     78712\n",
      "   macro avg       0.52      0.43      0.45     78712\n",
      "weighted avg       0.67      0.72      0.68     78712\n",
      "\n"
     ]
    },
    {
     "data": {
      "image/png": "[encoded data removed]",
      "text/plain": [
       "<Figure size 640x480 with 2 Axes>"
      ]
     },
     "metadata": {},
     "output_type": "display_data"
    }
   ],
   "source": [
    "# Logistic Regression Classifier\n",
    "lr_clf = LogisticRegression(max_iter=1000)\n",
    "lr_clf.fit(X_train_tfidf, y_train)\n",
    "lr_preds = lr_clf.predict(X_test_tfidf)\n",
    "\n",
    "print(\"\\nLogistic Regression Classifier Metrics:\")\n",
    "print(\"Accuracy:\", accuracy_score(y_test, lr_preds))\n",
    "print(\"Classification Report:\\n\", classification_report(y_test, lr_preds))\n",
    "conf_mat_lr = confusion_matrix(y_test, lr_preds)\n",
    "plt.imshow(conf_mat_lr, interpolation='nearest', cmap=plt.cm.Blues)\n",
    "plt.colorbar()\n",
    "plt.show()"
   ]
  },
  {
   "cell_type": "markdown",
   "id": "d8da0e82-dbcb-4555-b4f1-f24037ca22e0",
   "metadata": {},
   "source": [
    "# 3b. Lexicon Based Approach"
   ]
  },
  {
   "cell_type": "code",
   "execution_count": 11,
   "id": "1f11160b-217e-46b0-86d4-5217997fe339",
   "metadata": {},
   "outputs": [
    {
     "name": "stdout",
     "output_type": "stream",
     "text": [
      "\n",
      "VADER Sentiment Analysis Metrics:\n",
      "Accuracy: 0.0588474438459193\n",
      "Classification Report:\n",
      "               precision    recall  f1-score   support\n",
      "\n",
      "          -1       0.00      1.00      0.00         0\n",
      "           0       0.00      1.00      0.00         0\n",
      "           1       0.07      0.65      0.12      7163\n",
      "           2       1.00      0.00      0.00      4217\n",
      "           3       1.00      0.00      0.00      5950\n",
      "           4       1.00      0.00      0.00     11172\n",
      "           5       1.00      0.00      0.00     50210\n",
      "\n",
      "    accuracy                           0.06     78712\n",
      "   macro avg       0.58      0.38      0.02     78712\n",
      "weighted avg       0.91      0.06      0.01     78712\n",
      "\n"
     ]
    },
    {
     "data": {
      "image/png": "[encoded data removed]",
      "text/plain": [
       "<Figure size 640x480 with 2 Axes>"
      ]
     },
     "metadata": {},
     "output_type": "display_data"
    },
    {
     "name": "stdout",
     "output_type": "stream",
     "text": [
      "\n",
      "TextBlob Sentiment Analysis Metrics:\n",
      "Accuracy: 0.053918081105803435\n",
      "Classification Report:\n",
      "               precision    recall  f1-score   support\n",
      "\n",
      "          -1       0.00      1.00      0.00         0\n",
      "           0       0.00      1.00      0.00         0\n",
      "           1       0.06      0.59      0.11      7163\n",
      "           2       1.00      0.00      0.00      4217\n",
      "           3       1.00      0.00      0.00      5950\n",
      "           4       1.00      0.00      0.00     11172\n",
      "           5       1.00      0.00      0.00     50210\n",
      "\n",
      "    accuracy                           0.05     78712\n",
      "   macro avg       0.58      0.37      0.02     78712\n",
      "weighted avg       0.91      0.05      0.01     78712\n",
      "\n"
     ]
    },
    {
     "data": {
      "image/png": "[encoded data removed]",
      "text/plain": [
       "<Figure size 640x480 with 2 Axes>"
      ]
     },
     "metadata": {},
     "output_type": "display_data"
    }
   ],
   "source": [
    "from vaderSentiment.vaderSentiment import SentimentIntensityAnalyzer\n",
    "from textblob import TextBlob\n",
    "\n",
    "# Initialize VADER\n",
    "analyzer = SentimentIntensityAnalyzer()\n",
    "\n",
    "# Define a function for sentiment analysis using VADER\n",
    "def vader_sentiment(text):\n",
    "    sentiment_score = analyzer.polarity_scores(text)['compound']\n",
    "    if sentiment_score >= 0.05:\n",
    "        return 1  # Positive sentiment\n",
    "    elif sentiment_score <= -0.05:\n",
    "        return -1  # Negative sentiment\n",
    "    else:\n",
    "        return 0  # Neutral sentiment\n",
    "\n",
    "# Apply VADER sentiment analysis to test data\n",
    "vader_preds = [vader_sentiment(text) for text in X_test]\n",
    "\n",
    "print(\"\\nVADER Sentiment Analysis Metrics:\")\n",
    "print(\"Accuracy:\", accuracy_score(y_test, vader_preds))\n",
    "print(\"Classification Report:\\n\", classification_report(y_test, vader_preds, zero_division=1))\n",
    "conf_mat_vader = confusion_matrix(y_test, vader_preds)\n",
    "plt.imshow(conf_mat_vader, interpolation='nearest', cmap=plt.cm.Blues)\n",
    "plt.colorbar()\n",
    "plt.show()\n",
    "\n",
    "# Define a function for sentiment analysis using TextBlob\n",
    "def textblob_sentiment(text):\n",
    "    analysis = TextBlob(text)\n",
    "    if analysis.sentiment.polarity > 0:\n",
    "        return 1  # Positive sentiment\n",
    "    elif analysis.sentiment.polarity < 0:\n",
    "        return -1  # Negative sentiment\n",
    "    else:\n",
    "        return 0  # Neutral sentiment\n",
    "\n",
    "# Apply TextBlob sentiment analysis to test data\n",
    "textblob_preds = [textblob_sentiment(text) for text in X_test]\n",
    "\n",
    "print(\"\\nTextBlob Sentiment Analysis Metrics:\")\n",
    "print(\"Accuracy:\", accuracy_score(y_test, textblob_preds))\n",
    "print(\"Classification Report:\\n\", classification_report(y_test, textblob_preds, zero_division=1))\n",
    "conf_mat_textblob = confusion_matrix(y_test, textblob_preds)\n",
    "plt.imshow(conf_mat_textblob, interpolation='nearest', cmap=plt.cm.Blues)\n",
    "plt.colorbar()\n",
    "plt.show()\n"
   ]
  },
  {
   "cell_type": "markdown",
   "id": "7c91a167-73b6-4163-8e50-84444eddc072",
   "metadata": {},
   "source": [
    "# 4. Model Evaluation"
   ]
  },
  {
   "cell_type": "markdown",
   "id": "0510ed39-8cd8-43c2-94c1-0e9c9e1a047d",
   "metadata": {},
   "source": [
    "1. Machine Learning-Based Approach:\n",
    "\n",
    "* Naive Bayes Classifier: Achieves an accuracy of 0.645 with relatively low precision, recall, and F1-scores for most classes, indicating challenges in correctly predicting various sentiments.\n",
    "* Logistic Regression Classifier: Shows improvement with an accuracy of 0.719 and better precision, recall, and F1-scores across classes compared to Naive Bayes.\n",
    "\n",
    "2. Lexicon-Based Approach:\n",
    "\n",
    "* VADER Sentiment Analysis: Performs poorly with an accuracy of 0.059, mainly due to issues with handling neutral sentiments and limited vocabulary coverage for nuanced sentiments.\n",
    "* TextBlob Sentiment Analysis: Similar to VADER, it also struggles with an accuracy of 0.054, indicating challenges in accurately capturing sentiment nuances.nces."
   ]
  },
  {
   "cell_type": "markdown",
   "id": "7d77fed3-a5ef-4872-bef5-c2a409f7b5c5",
   "metadata": {},
   "source": [
    "# 5. Discussion on Strengths and Weaknesses"
   ]
  },
  {
   "cell_type": "markdown",
   "id": "cf2ca728-d97c-4480-8ae2-d4af537da970",
   "metadata": {},
   "source": [
    "Machine learning models like Naive Bayes and Logistic Regression excel in sentiment analysis due to their ability to learn from data, capturing complex patterns in language that reflect sentiment. They are adept at handling nuanced sentiments, which is crucial in tasks where emotions can vary widely. However, these models heavily rely on labeled data for training and may struggle with rare or ambiguous sentiments. On the other hand, lexicon-based methods such as VADER and TextBlob are easy to implement and computationally efficient, making them suitable for basic sentiment analysis tasks. However, their performance is limited by vocabulary coverage and the inability to grasp context-dependent sentiments or sarcasm, which are common in natural language expressions. Choosing the appropriate model depends on the task complexity and the need for nuanced sentiment understanding versus simplicity and speed of analysis.sources.sources."
   ]
  },
  {
   "cell_type": "code",
   "execution_count": null,
   "id": "4658a259-0bce-40a6-9bfb-d4433d667bb4",
   "metadata": {},
   "outputs": [],
   "source": []
  }
 ],
 "metadata": {
  "kernelspec": {
   "display_name": "Python 3 (ipykernel)",
   "language": "python",
   "name": "python3"
  },
  "language_info": {
   "codemirror_mode": {
    "name": "ipython",
    "version": 3
   },
   "file_extension": ".py",
   "mimetype": "text/x-python",
   "name": "python",
   "nbconvert_exporter": "python",
   "pygments_lexer": "ipython3",
   "version": "3.11.5"
  }
 },
 "nbformat": 4,
 "nbformat_minor": 5
}
